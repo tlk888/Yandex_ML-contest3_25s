{
  "cells": [
    {
      "cell_type": "markdown",
      "metadata": {
        "id": "view-in-github",
        "colab_type": "text"
      },
      "source": [
        "<a href=\"https://colab.research.google.com/github/tlk888/Yandex_ML-contest3_25s/blob/main/homeworks/hw01_classification/02_hw_fmnist_classification.ipynb\" target=\"_parent\"><img src=\"https://colab.research.google.com/assets/colab-badge.svg\" alt=\"Open In Colab\"/></a>"
      ]
    },
    {
      "cell_type": "markdown",
      "metadata": {
        "id": "nDsVMGiVgSq2"
      },
      "source": [
        "## Классификация FashionMNIST\n",
        "\n",
        "##### Автор: [Радослав Нейчев](https://www.linkedin.com/in/radoslav-neychev/), https://t.me/s/girafe_ai"
      ]
    },
    {
      "cell_type": "code",
      "execution_count": 17,
      "metadata": {
        "id": "3isBRG6PgSq6"
      },
      "outputs": [],
      "source": [
        "# do not change the code in the block below\n",
        "# __________start of block__________\n",
        "import json\n",
        "import os\n",
        "import re\n",
        "\n",
        "import numpy as np\n",
        "import torch\n",
        "import torchvision\n",
        "from IPython.display import clear_output\n",
        "from matplotlib import pyplot as plt\n",
        "from torch import nn\n",
        "from torch.nn import functional as F\n",
        "from torchvision.datasets import FashionMNIST\n",
        "\n",
        "# __________end of block__________"
      ]
    },
    {
      "cell_type": "code",
      "execution_count": 18,
      "metadata": {
        "id": "jUZ7kCOkH9ad"
      },
      "outputs": [],
      "source": [
        "# do not change the code in the block below\n",
        "# __________start of block__________\n",
        "\n",
        "\n",
        "def parse_pytorch_model(model_str):\n",
        "    def parse_layer(layer_str):\n",
        "        layer_info = {}\n",
        "        layer_name, params = layer_str.split(\"(\", 1)\n",
        "        params = params.rstrip(\")\")\n",
        "        layer_info[\"type\"] = layer_name.strip()\n",
        "        param_dict = {}\n",
        "        for param in params.split(\", \"):\n",
        "            if \"=\" in param:\n",
        "                key, value = param.split(\"=\")\n",
        "                param_dict[key.strip()] = eval(value.strip())\n",
        "            else:\n",
        "                param_dict[param.strip()] = None\n",
        "        layer_info[\"parameters\"] = param_dict\n",
        "        return layer_info\n",
        "\n",
        "    model_dict = {}\n",
        "    lines = model_str.splitlines()\n",
        "    model_name = lines[0].strip(\"()\")\n",
        "    model_dict[\"model_name\"] = model_name\n",
        "    model_dict[\"layers\"] = []\n",
        "\n",
        "    layer_regex = re.compile(r\"\\((\\d+)\\): (.+)\")\n",
        "    for line in lines[1:]:\n",
        "        line = line.strip()\n",
        "        match = layer_regex.match(line)\n",
        "        if match:\n",
        "            index, layer = match.groups()\n",
        "            model_dict[\"layers\"].append({\"index\": int(index), \"layer\": parse_layer(layer)})\n",
        "    return model_dict\n",
        "\n",
        "\n",
        "# __________end of block__________"
      ]
    },
    {
      "cell_type": "code",
      "execution_count": 19,
      "metadata": {
        "id": "eMTRpZgdH9ad"
      },
      "outputs": [],
      "source": [
        "# do not change the code in the block below\n",
        "# __________start of block__________\n",
        "def get_predictions(model, eval_data, step=10):\n",
        "\n",
        "    predicted_labels = []\n",
        "    model.eval()\n",
        "    with torch.no_grad():\n",
        "        for idx in range(0, len(eval_data), step):\n",
        "            y_predicted = model(eval_data[idx : idx + step].to(device))\n",
        "            predicted_labels.append(y_predicted.argmax(dim=1).cpu())\n",
        "\n",
        "    predicted_labels = torch.cat(predicted_labels)\n",
        "    predicted_labels = \",\".join([str(x.item()) for x in list(predicted_labels)])\n",
        "    return predicted_labels\n",
        "\n",
        "\n",
        "def get_accuracy(model, data_loader):\n",
        "    predicted_labels = []\n",
        "    real_labels = []\n",
        "    model.eval()\n",
        "    with torch.no_grad():\n",
        "        for batch in data_loader:\n",
        "            y_predicted = model(batch[0].to(device))\n",
        "            predicted_labels.append(y_predicted.argmax(dim=1).cpu())\n",
        "            real_labels.append(batch[1])\n",
        "\n",
        "    predicted_labels = torch.cat(predicted_labels)\n",
        "    real_labels = torch.cat(real_labels)\n",
        "    accuracy_score = (predicted_labels == real_labels).type(torch.FloatTensor).mean()\n",
        "    return accuracy_score\n",
        "\n",
        "\n",
        "# __________end of block__________"
      ]
    },
    {
      "cell_type": "markdown",
      "metadata": {
        "id": "LDrV0BJIH9ae"
      },
      "source": [
        "Загрузите файл `hw_overfitting_data_dict.npy` (ссылка есть на странице с заданием), он понадобится для генерации посылок. Код ниже может его загрузить (но в случае возникновения ошибки скачайте и загрузите его вручную).\n"
      ]
    },
    {
      "cell_type": "code",
      "execution_count": 4,
      "metadata": {
        "id": "p7f8d7AAH9ae",
        "outputId": "8f1283ba-167a-43a0-8a31-67e687fb9b16",
        "colab": {
          "base_uri": "https://localhost:8080/"
        }
      },
      "outputs": [
        {
          "output_type": "stream",
          "name": "stdout",
          "text": [
            "--2025-04-08 20:40:54--  https://github.com/girafe-ai/ml-course/raw/24f_ysda/homeworks/hw_overfitting/hw_overfitting_data_dict\n",
            "Resolving github.com (github.com)... 140.82.116.4\n",
            "Connecting to github.com (github.com)|140.82.116.4|:443... connected.\n",
            "HTTP request sent, awaiting response... 302 Found\n",
            "Location: https://raw.githubusercontent.com/girafe-ai/ml-course/24f_ysda/homeworks/hw_overfitting/hw_overfitting_data_dict [following]\n",
            "--2025-04-08 20:40:55--  https://raw.githubusercontent.com/girafe-ai/ml-course/24f_ysda/homeworks/hw_overfitting/hw_overfitting_data_dict\n",
            "Resolving raw.githubusercontent.com (raw.githubusercontent.com)... 185.199.109.133, 185.199.110.133, 185.199.108.133, ...\n",
            "Connecting to raw.githubusercontent.com (raw.githubusercontent.com)|185.199.109.133|:443... connected.\n",
            "HTTP request sent, awaiting response... 200 OK\n",
            "Length: 6272446 (6.0M) [application/octet-stream]\n",
            "Saving to: ‘hw_overfitting_data_dict.npy’\n",
            "\n",
            "hw_overfitting_data 100%[===================>]   5.98M  --.-KB/s    in 0.07s   \n",
            "\n",
            "2025-04-08 20:40:55 (80.5 MB/s) - ‘hw_overfitting_data_dict.npy’ saved [6272446/6272446]\n",
            "\n"
          ]
        }
      ],
      "source": [
        "!wget https://github.com/girafe-ai/ml-course/raw/24f_ysda/homeworks/hw_overfitting/hw_overfitting_data_dict -O hw_overfitting_data_dict.npy"
      ]
    },
    {
      "cell_type": "code",
      "execution_count": 20,
      "metadata": {
        "id": "zQWqvLoxH9ae"
      },
      "outputs": [],
      "source": [
        "# do not change the code in the block below\n",
        "# __________start of block__________\n",
        "assert os.path.exists(\n",
        "    \"hw_overfitting_data_dict.npy\"\n",
        "), \"Please, download `hw_overfitting_data_dict.npy` and place it in the working directory\"\n",
        "\n",
        "# __________end of block__________"
      ]
    },
    {
      "cell_type": "markdown",
      "metadata": {
        "id": "zeA6Q5-CgSq7"
      },
      "source": [
        "Вернемся к задаче распознавания простых изображений, рассмотренной ранее. Но теперь будем работать с набором данных [FashionMNIST](https://github.com/zalandoresearch/fashion-mnist). В данном задании воспользуемся всем датасетом целиком.\n",
        "\n",
        "__Ваша первая задача: реализовать весь пайплан обучения модели и добиться качества $\\geq 88.5\\%$ на тестовой выборке.__\n",
        "\n",
        "Код для обучения модели в данном задании отсутствует. Присутствует лишь несколько тестов, которые помогут вам отладить свое решение. За примером можно обратиться к ноутбукам с предыдущих занятий."
      ]
    },
    {
      "cell_type": "code",
      "execution_count": 21,
      "metadata": {
        "id": "pwyJN-B-H9af"
      },
      "outputs": [],
      "source": [
        "CUDA_DEVICE_ID = 0  # change if needed"
      ]
    },
    {
      "cell_type": "code",
      "execution_count": 22,
      "metadata": {
        "id": "nPG1KbQAgl8b"
      },
      "outputs": [],
      "source": [
        "# do not change the code in the block below\n",
        "# __________start of block__________\n",
        "device = (\n",
        "    torch.device(f\"cuda:{CUDA_DEVICE_ID}\") if torch.cuda.is_available() else torch.device(\"cpu\")\n",
        ")\n",
        "# __________end of block__________"
      ]
    },
    {
      "cell_type": "code",
      "execution_count": 23,
      "metadata": {
        "colab": {
          "base_uri": "https://localhost:8080/",
          "height": 469
        },
        "id": "aYcL28OsgSq8",
        "outputId": "d3c3422a-cd69-4f24-ff28-02c29dce3eb8"
      },
      "outputs": [
        {
          "output_type": "execute_result",
          "data": {
            "text/plain": [
              "Text(0.5, 1.0, 'Image label: 5')"
            ]
          },
          "metadata": {},
          "execution_count": 23
        },
        {
          "output_type": "display_data",
          "data": {
            "text/plain": [
              "<Figure size 640x480 with 1 Axes>"
            ],
            "image/png": "[encoded data removed]"
          },
          "metadata": {}
        }
      ],
      "source": [
        "# do not change the code in the block below\n",
        "# __________start of block__________\n",
        "\n",
        "train_fmnist_data = FashionMNIST(\n",
        "    \".\", train=True, transform=torchvision.transforms.ToTensor(), download=True\n",
        ")\n",
        "test_fmnist_data = FashionMNIST(\n",
        "    \".\", train=False, transform=torchvision.transforms.ToTensor(), download=True\n",
        ")\n",
        "\n",
        "\n",
        "train_data_loader = torch.utils.data.DataLoader(\n",
        "    train_fmnist_data, batch_size=32, shuffle=True, num_workers=2\n",
        ")\n",
        "\n",
        "test_data_loader = torch.utils.data.DataLoader(\n",
        "    test_fmnist_data, batch_size=32, shuffle=False, num_workers=2\n",
        ")\n",
        "\n",
        "random_batch = next(iter(train_data_loader))\n",
        "_image, _label = random_batch[0][0], random_batch[1][0]\n",
        "plt.figure()\n",
        "plt.imshow(_image.reshape(28, 28))\n",
        "plt.title(f\"Image label: {_label}\")\n",
        "# __________end of block__________"
      ]
    },
    {
      "cell_type": "markdown",
      "metadata": {
        "id": "S6jWRv1rgSq8"
      },
      "source": [
        "Постройте модель ниже. Пожалуйста, не стройте переусложненную сеть, не стоит делать ее глубже четырех слоев (можно и меньше). Ваша основная задача – обучить модель и получить качество на отложенной (тестовой выборке) не менее 88.5% accuracy.\n",
        "\n",
        "__Внимание, ваша модель должна быть представлена именно переменной `model_task_1`. На вход ей должен приходить тензор размерностью (1, 28, 28).__"
      ]
    },
    {
      "cell_type": "code",
      "execution_count": 61,
      "metadata": {
        "id": "BcyEFX-RgSq8"
      },
      "outputs": [],
      "source": [
        "# Creating model instance\n",
        "model_task_1 = None\n",
        "\n",
        "class WSConv2d(nn.Conv2d):\n",
        "    def __init__(self, in_channels, out_channels, kernel_size, **kwargs):\n",
        "        super().__init__(in_channels, out_channels, kernel_size, **kwargs)\n",
        "        nn.init.kaiming_normal_(self.weight)\n",
        "\n",
        "    def forward(self, x):\n",
        "        weight = self.weight\n",
        "        weight_mean = weight.mean(dim=(1,2,3), keepdim=True)\n",
        "        weight_std = weight.std(dim=(1,2,3), keepdim=True)\n",
        "        standardized_weight = (weight - weight_mean) / (weight_std + 1e-5)\n",
        "        return F.conv2d(\n",
        "            x, standardized_weight, self.bias,\n",
        "            self.stride, self.padding, self.dilation, self.groups\n",
        "        )\n",
        "\n",
        "# Creating model instance\n",
        "class FashionMNISTModel(nn.Module):\n",
        "    def __init__(self):\n",
        "        super().__init__()\n",
        "        self.net = nn.Sequential(\n",
        "            WSConv2d(1, 32, 3, padding=1),\n",
        "            nn.ReLU(),\n",
        "            nn.MaxPool2d(2),\n",
        "\n",
        "            WSConv2d(32, 64, 3, padding=1),\n",
        "            nn.ReLU(),\n",
        "            nn.MaxPool2d(2),\n",
        "\n",
        "            nn.Flatten(),\n",
        "            nn.Linear(64*7*7, 128),\n",
        "            nn.ReLU(),\n",
        "            nn.Dropout(0.5),\n",
        "            nn.Linear(128, 10)\n",
        "        )\n",
        "\n",
        "    def forward(self, x):\n",
        "        return self.net(x)\n",
        "\n",
        "model_task_1 = FashionMNISTModel()"
      ]
    },
    {
      "cell_type": "markdown",
      "metadata": {
        "id": "bAoLV4dkoy5M"
      },
      "source": [
        "Не забудьте перенести модель на выбранный `device`!"
      ]
    },
    {
      "cell_type": "code",
      "execution_count": 62,
      "metadata": {
        "id": "Xas9SIXDoxvZ",
        "outputId": "85c94cc7-421e-4b0c-a5f4-39b80329df1b",
        "colab": {
          "base_uri": "https://localhost:8080/"
        }
      },
      "outputs": [
        {
          "output_type": "execute_result",
          "data": {
            "text/plain": [
              "FashionMNISTModel(\n",
              "  (net): Sequential(\n",
              "    (0): WSConv2d(1, 32, kernel_size=(3, 3), stride=(1, 1), padding=(1, 1))\n",
              "    (1): ReLU()\n",
              "    (2): MaxPool2d(kernel_size=2, stride=2, padding=0, dilation=1, ceil_mode=False)\n",
              "    (3): WSConv2d(32, 64, kernel_size=(3, 3), stride=(1, 1), padding=(1, 1))\n",
              "    (4): ReLU()\n",
              "    (5): MaxPool2d(kernel_size=2, stride=2, padding=0, dilation=1, ceil_mode=False)\n",
              "    (6): Flatten(start_dim=1, end_dim=-1)\n",
              "    (7): Linear(in_features=3136, out_features=128, bias=True)\n",
              "    (8): ReLU()\n",
              "    (9): Dropout(p=0.5, inplace=False)\n",
              "    (10): Linear(in_features=128, out_features=10, bias=True)\n",
              "  )\n",
              ")"
            ]
          },
          "metadata": {},
          "execution_count": 62
        }
      ],
      "source": [
        "model_task_1.to(device)"
      ]
    },
    {
      "cell_type": "markdown",
      "metadata": {
        "id": "6pLRWysggSq9"
      },
      "source": [
        "Локальные тесты для проверки вашей модели доступны ниже:"
      ]
    },
    {
      "cell_type": "code",
      "execution_count": 63,
      "metadata": {
        "colab": {
          "base_uri": "https://localhost:8080/"
        },
        "id": "_qMQzo1ggSq9",
        "outputId": "3cf7efbf-b79f-4210-c6ae-a496fa178b43"
      },
      "outputs": [
        {
          "output_type": "stream",
          "name": "stdout",
          "text": [
            "Everything seems fine!\n"
          ]
        }
      ],
      "source": [
        "# do not change the code in the block below\n",
        "# __________start of block__________\n",
        "assert model_task_1 is not None, \"Please, use `model_task_1` variable to store your model\"\n",
        "\n",
        "try:\n",
        "    x = random_batch[0].to(device)\n",
        "    y = random_batch[1].to(device)\n",
        "\n",
        "    # compute outputs given inputs, both are variables\n",
        "    y_predicted = model_task_1(x)\n",
        "except Exception as e:\n",
        "    print(\"Something is wrong with the model\")\n",
        "    raise e\n",
        "\n",
        "\n",
        "assert y_predicted.shape[-1] == 10, \"Model should predict 10 logits/probas\"\n",
        "\n",
        "print(\"Everything seems fine!\")\n",
        "# __________end of block__________"
      ]
    },
    {
      "cell_type": "markdown",
      "metadata": {
        "id": "suRmIPwIgSq9"
      },
      "source": [
        "Настройте параметры модели на обучающей выборке. Также рекомендуем поработать с `learning rate`."
      ]
    },
    {
      "cell_type": "code",
      "execution_count": 64,
      "metadata": {
        "id": "YJnU14bdnZa_",
        "colab": {
          "base_uri": "https://localhost:8080/"
        },
        "outputId": "8c4e6617-b6ce-41de-9e17-068461fa0fa7"
      },
      "outputs": [
        {
          "output_type": "stream",
          "name": "stdout",
          "text": [
            "\n",
            "Epoch 1/30\n",
            "Train Loss: 0.6281 | Test Accuracy: 0.8622 | LR: 5.00e-05\n",
            "\n",
            "Epoch 2/30\n",
            "Train Loss: 0.4174 | Test Accuracy: 0.8792 | LR: 5.00e-05\n",
            "\n",
            "Epoch 3/30\n",
            "Train Loss: 0.3636 | Test Accuracy: 0.8887 | LR: 5.00e-05\n",
            "\n",
            "Epoch 4/30\n",
            "Train Loss: 0.3266 | Test Accuracy: 0.8940 | LR: 5.00e-05\n",
            "\n",
            "Epoch 5/30\n",
            "Train Loss: 0.3049 | Test Accuracy: 0.8979 | LR: 5.00e-05\n",
            "\n",
            "Epoch 6/30\n",
            "Train Loss: 0.2821 | Test Accuracy: 0.9020 | LR: 5.00e-05\n",
            "\n",
            "Epoch 7/30\n",
            "Train Loss: 0.2653 | Test Accuracy: 0.9046 | LR: 5.00e-05\n",
            "\n",
            "Epoch 8/30\n",
            "Train Loss: 0.2540 | Test Accuracy: 0.9084 | LR: 5.00e-05\n",
            "\n",
            "Epoch 9/30\n",
            "Train Loss: 0.2422 | Test Accuracy: 0.9056 | LR: 5.00e-05\n",
            "\n",
            "Epoch 10/30\n",
            "Train Loss: 0.2300 | Test Accuracy: 0.9069 | LR: 5.00e-05\n",
            "\n",
            "Epoch 11/30\n",
            "Train Loss: 0.2211 | Test Accuracy: 0.9091 | LR: 5.00e-05\n",
            "\n",
            "Epoch 12/30\n",
            "Train Loss: 0.2117 | Test Accuracy: 0.9142 | LR: 5.00e-05\n",
            "\n",
            "Epoch 13/30\n",
            "Train Loss: 0.2030 | Test Accuracy: 0.9137 | LR: 5.00e-05\n",
            "\n",
            "Epoch 14/30\n",
            "Train Loss: 0.1963 | Test Accuracy: 0.9149 | LR: 5.00e-05\n",
            "\n",
            "Epoch 15/30\n",
            "Train Loss: 0.1888 | Test Accuracy: 0.9184 | LR: 5.00e-05\n",
            "\n",
            "Epoch 16/30\n",
            "Train Loss: 0.1802 | Test Accuracy: 0.9175 | LR: 5.00e-05\n",
            "\n",
            "Epoch 17/30\n",
            "Train Loss: 0.1745 | Test Accuracy: 0.9150 | LR: 5.00e-05\n",
            "\n",
            "Learning rate reduced to 1.00e-05\n",
            "\n",
            "Epoch 18/30\n",
            "Train Loss: 0.1696 | Test Accuracy: 0.9154 | LR: 1.00e-05\n",
            "\n",
            "Epoch 19/30\n",
            "Train Loss: 0.1443 | Test Accuracy: 0.9196 | LR: 1.00e-05\n",
            "\n",
            "Epoch 20/30\n",
            "Train Loss: 0.1374 | Test Accuracy: 0.9206 | LR: 1.00e-05\n",
            "\n",
            "Epoch 21/30\n",
            "Train Loss: 0.1346 | Test Accuracy: 0.9204 | LR: 1.00e-05\n",
            "\n",
            "Epoch 22/30\n",
            "Train Loss: 0.1338 | Test Accuracy: 0.9236 | LR: 1.00e-05\n",
            "\n",
            "Epoch 23/30\n",
            "Train Loss: 0.1309 | Test Accuracy: 0.9207 | LR: 1.00e-05\n",
            "\n",
            "Epoch 24/30\n",
            "Train Loss: 0.1279 | Test Accuracy: 0.9223 | LR: 1.00e-05\n",
            "\n",
            "Learning rate reduced to 2.00e-06\n",
            "\n",
            "Epoch 25/30\n",
            "Train Loss: 0.1260 | Test Accuracy: 0.9216 | LR: 2.00e-06\n",
            "\n",
            "Epoch 26/30\n",
            "Train Loss: 0.1204 | Test Accuracy: 0.9225 | LR: 2.00e-06\n",
            "\n",
            "Epoch 27/30\n",
            "Train Loss: 0.1211 | Test Accuracy: 0.9220 | LR: 2.00e-06\n",
            "\n",
            "Early stopping triggered\n",
            "\n",
            "Final Test Accuracy: 0.9236\n"
          ]
        }
      ],
      "source": [
        "# Гиперпараметры\n",
        "LEARNING_RATE = 0.00005\n",
        "EPOCHS = 30\n",
        "PATIENCE = 5\n",
        "\n",
        "# Инициализация компонентов обучения\n",
        "criterion = nn.CrossEntropyLoss()\n",
        "optimizer = torch.optim.Adam(model_task_1.parameters(), lr=LEARNING_RATE, weight_decay=3e-4)\n",
        "#optimizer = torch.optim.SGD(\n",
        "#    model_task_1.parameters(),\n",
        "#    lr=LEARNING_RATE,         # Начальный learning rate\n",
        "#    momentum=0.9,     # Добавляем momentum\n",
        "#    nesterov=True,    # Включаем Nesterov acceleration\n",
        "#    weight_decay=5e-4\n",
        "#)\n",
        "scheduler = torch.optim.lr_scheduler.ReduceLROnPlateau(optimizer, 'max', patience=2, factor=0.2, min_lr=1e-6)\n",
        "#scheduler = torch.optim.lr_scheduler.CyclicLR(\n",
        "#    optimizer,\n",
        "#    base_lr=0.00005,\n",
        "#    max_lr=0.01,\n",
        "#    step_size_up=1000,\n",
        "#    mode='triangular2'\n",
        "#)\n",
        "\n",
        "best_accuracy = 0.0\n",
        "no_improve = 0\n",
        "prev_lr = LEARNING_RATE  # Для отслеживания изменения LR\n",
        "\n",
        "# Цикл обучения\n",
        "for epoch in range(EPOCHS):\n",
        "    model_task_1.train()\n",
        "    running_loss = 0.0\n",
        "\n",
        "    for images, labels in train_data_loader:\n",
        "        images, labels = images.to(device), labels.to(device)\n",
        "\n",
        "        optimizer.zero_grad()\n",
        "        outputs = model_task_1(images)\n",
        "        loss = criterion(outputs, labels)\n",
        "        loss.backward()\n",
        "        optimizer.step()\n",
        "\n",
        "        running_loss += loss.item() * images.size(0)\n",
        "\n",
        "    # Валидация\n",
        "    model_task_1.eval()\n",
        "    test_accuracy = get_accuracy(model_task_1, test_data_loader)\n",
        "    epoch_loss = running_loss / len(train_data_loader.dataset)\n",
        "\n",
        "    # Обновление LR с ручным отслеживанием\n",
        "    scheduler.step(test_accuracy)\n",
        "    current_lr = optimizer.param_groups[0]['lr']\n",
        "\n",
        "    # Вывод информации об изменении LR\n",
        "    if current_lr != prev_lr:\n",
        "        print(f\"\\nLearning rate reduced to {current_lr:.2e}\")\n",
        "        prev_lr = current_lr\n",
        "\n",
        "    # Логирование\n",
        "    print(f\"\\nEpoch {epoch+1}/{EPOCHS}\")\n",
        "    print(f\"Train Loss: {epoch_loss:.4f} | Test Accuracy: {test_accuracy:.4f} | LR: {current_lr:.2e}\")\n",
        "\n",
        "    # Ранняя остановка и сохранение модели\n",
        "    if test_accuracy > best_accuracy:\n",
        "        best_accuracy = test_accuracy\n",
        "        torch.save(model_task_1.state_dict(), \"best_model.pth\")\n",
        "        no_improve = 0\n",
        "        if test_accuracy >= 0.985:\n",
        "            print(\"\\nTarget accuracy reached!\")\n",
        "            break\n",
        "    else:\n",
        "        no_improve += 1\n",
        "        if no_improve == PATIENCE:\n",
        "            print(\"\\nEarly stopping triggered\")\n",
        "            break\n",
        "\n",
        "# Загрузка лучшей модели\n",
        "model_task_1.load_state_dict(torch.load(\"best_model.pth\"))\n",
        "final_accuracy = get_accuracy(model_task_1, test_data_loader)\n",
        "print(f\"\\nFinal Test Accuracy: {final_accuracy:.4f}\")"
      ]
    },
    {
      "cell_type": "markdown",
      "metadata": {
        "id": "2zce7gt1gSq-"
      },
      "source": [
        "Также, напоминаем, что в любой момент можно обратиться к замечательной [документации](https://pytorch.org/docs/stable/index.html) и [обучающим примерам](https://pytorch.org/tutorials/).  "
      ]
    },
    {
      "cell_type": "markdown",
      "metadata": {
        "id": "usswrWYOgSq-"
      },
      "source": [
        "Оценим качество классификации:"
      ]
    },
    {
      "cell_type": "code",
      "execution_count": 65,
      "metadata": {
        "id": "Xua3TVZHgSq-",
        "outputId": "5a50df7d-6fde-4651-9187-638d2e944e74",
        "colab": {
          "base_uri": "https://localhost:8080/"
        }
      },
      "outputs": [
        {
          "output_type": "stream",
          "name": "stdout",
          "text": [
            "Neural network accuracy on train set: 0.96877\n"
          ]
        }
      ],
      "source": [
        "train_acc_task_1 = get_accuracy(model_task_1, train_data_loader)\n",
        "print(f\"Neural network accuracy on train set: {train_acc_task_1:3.5}\")"
      ]
    },
    {
      "cell_type": "code",
      "execution_count": 66,
      "metadata": {
        "id": "l9KEKXBxgSq-",
        "outputId": "8d4cbbf3-a50f-432d-eca3-3d24b5655f21",
        "colab": {
          "base_uri": "https://localhost:8080/"
        }
      },
      "outputs": [
        {
          "output_type": "stream",
          "name": "stdout",
          "text": [
            "Neural network accuracy on test set: 0.9236\n"
          ]
        }
      ],
      "source": [
        "test_acc_task_1 = get_accuracy(model_task_1, test_data_loader)\n",
        "print(f\"Neural network accuracy on test set: {test_acc_task_1:3.5}\")"
      ]
    },
    {
      "cell_type": "markdown",
      "metadata": {
        "id": "4oyhmMobgSq_"
      },
      "source": [
        "Проверка, что необходимые пороги пройдены:"
      ]
    },
    {
      "cell_type": "code",
      "execution_count": 67,
      "metadata": {
        "colab": {
          "base_uri": "https://localhost:8080/"
        },
        "id": "OAIrURCEgSq_",
        "outputId": "73783426-a306-448d-e4bb-4ca71c357d37"
      },
      "outputs": [
        {
          "output_type": "stream",
          "name": "stdout",
          "text": [
            "Overall Test Accuracy: 92.36%\n",
            "\n",
            "Class-wise Accuracy:\n",
            "T-shirt/top    : 89.10%\n",
            "Trouser        : 98.60%\n",
            "Pullover       : 88.00%\n",
            "Dress          : 92.40%\n",
            "Coat           : 90.10%\n",
            "Sandal         : 98.50%\n",
            "Shirt          : 74.60%\n",
            "Sneaker        : 97.70%\n",
            "Bag            : 98.50%\n",
            "Ankle boot     : 96.10%\n"
          ]
        }
      ],
      "source": [
        "assert test_acc_task_1 >= 0.885, \"Train accuracy is below 0.885 threshold\"\n",
        "assert (\n",
        "    train_acc_task_1 >= 0.905\n",
        "), \"Train accuracy is below 0.905 while test accuracy is fine. We recommend to check your model and data flow\"\n",
        "\n",
        "def class_wise_accuracy(model, test_loader, num_classes=10):\n",
        "    model.eval()\n",
        "    correct_pred = {class_idx: 0 for class_idx in range(num_classes)}\n",
        "    total_pred = {class_idx: 0 for class_idx in range(num_classes)}\n",
        "\n",
        "    with torch.no_grad():\n",
        "        for images, labels in test_loader:\n",
        "            images = images.to(device)\n",
        "            labels = labels.to(device)\n",
        "\n",
        "            outputs = model(images)\n",
        "            _, predictions = torch.max(outputs, 1)\n",
        "\n",
        "            # Update counts for each class\n",
        "            for label, prediction in zip(labels, predictions):\n",
        "                class_idx = label.item()\n",
        "                total_pred[class_idx] += 1\n",
        "                if prediction == label:\n",
        "                    correct_pred[class_idx] += 1\n",
        "\n",
        "    # Calculate accuracy for each class\n",
        "    class_acc = {}\n",
        "    for class_idx in range(num_classes):\n",
        "        if total_pred[class_idx] > 0:\n",
        "            acc = 100 * correct_pred[class_idx] / total_pred[class_idx]\n",
        "            class_acc[class_idx] = acc\n",
        "        else:\n",
        "            class_acc[class_idx] = 0.0  # Handle case with zero samples\n",
        "\n",
        "    # Calculate overall accuracy\n",
        "    total_correct = sum(correct_pred.values())\n",
        "    total_samples = sum(total_pred.values())\n",
        "    overall_acc = 100 * total_correct / total_samples\n",
        "\n",
        "    return class_acc, overall_acc\n",
        "\n",
        "class_acc, overall_acc = class_wise_accuracy(model_task_1, test_data_loader)\n",
        "\n",
        "# Вывод результатов\n",
        "class_names = ['T-shirt/top', 'Trouser', 'Pullover', 'Dress', 'Coat',\n",
        "               'Sandal', 'Shirt', 'Sneaker', 'Bag', 'Ankle boot']\n",
        "\n",
        "print(f\"Overall Test Accuracy: {overall_acc:.2f}%\")\n",
        "print(\"\\nClass-wise Accuracy:\")\n",
        "for idx, name in enumerate(class_names):\n",
        "    print(f\"{name:15}: {class_acc[idx]:.2f}%\")"
      ]
    },
    {
      "cell_type": "markdown",
      "metadata": {
        "id": "bVpYzE23H9ah"
      },
      "source": [
        "Обращаем внимане, код ниже предполагает, что ваша модель имеет содержится в переменной `model_task_1`, а файл `hw_fmnist_data_dict.npy` находится в той же директории, что и ноутбук (он доступен в репозитории)."
      ]
    },
    {
      "cell_type": "code",
      "execution_count": 69,
      "metadata": {
        "id": "0sb8aZenH9ah",
        "outputId": "34c7de02-2d87-4720-b6e7-a1b378890e83",
        "colab": {
          "base_uri": "https://localhost:8080/"
        }
      },
      "outputs": [
        {
          "output_type": "stream",
          "name": "stdout",
          "text": [
            "File saved to `submission_dict_fmnist_task_1.json`\n"
          ]
        }
      ],
      "source": [
        "import re\n",
        "import ast\n",
        "\n",
        "def parse_pytorch_model(model_str):\n",
        "    def parse_layer(layer_str):\n",
        "        layer_info = {}\n",
        "        parts = layer_str.split(\"(\", 1)\n",
        "        layer_name = parts[0].strip()\n",
        "        layer_info[\"type\"] = layer_name\n",
        "\n",
        "        if len(parts) == 1:\n",
        "            layer_info[\"parameters\"] = {}\n",
        "            return layer_info\n",
        "\n",
        "        params_str = parts[1].rstrip(\")\")\n",
        "        param_dict = {}\n",
        "        current_param = []\n",
        "        in_brackets = 0\n",
        "\n",
        "        for char in params_str + \",\":\n",
        "            if char == \"(\":\n",
        "                in_brackets += 1\n",
        "                current_param.append(char)\n",
        "            elif char == \")\":\n",
        "                in_brackets -= 1\n",
        "                current_param.append(char)\n",
        "            elif char == \",\" and in_brackets == 0:\n",
        "                param = \"\".join(current_param).strip()\n",
        "                if param:\n",
        "                    if \"=\" in param:\n",
        "                        key, value = param.split(\"=\", 1)\n",
        "                        key = key.strip()\n",
        "                        value = value.strip()\n",
        "                        try:\n",
        "                            param_dict[key] = ast.literal_eval(value)\n",
        "                        except:\n",
        "                            param_dict[key] = value\n",
        "                    else:\n",
        "                        param_dict[param] = None\n",
        "                current_param = []\n",
        "            else:\n",
        "                current_param.append(char)\n",
        "\n",
        "        layer_info[\"parameters\"] = param_dict\n",
        "        return layer_info\n",
        "\n",
        "    # Обработка входных данных\n",
        "    lines = [line.strip() for line in model_str.splitlines() if line.strip()]\n",
        "    if not lines:\n",
        "        return {\"model_name\": \"Unknown\", \"layers\": []}\n",
        "\n",
        "    # Извлекаем имя модели из первой строки (новый способ)\n",
        "    model_name = lines[0].split(\"(\", 1)[0].strip()\n",
        "    model_dict = {\n",
        "        \"model_name\": model_name,\n",
        "        \"layers\": []\n",
        "    }\n",
        "\n",
        "    # Регулярное выражение для слоев\n",
        "    layer_pattern = re.compile(r\"\\((\\w+)\\):\\s*(\\w+)\\((.*)\\)\")\n",
        "\n",
        "    for line in lines[1:]:\n",
        "        if line.startswith(\"(\") and \"):\" in line:\n",
        "            match = layer_pattern.match(line)\n",
        "            if match:\n",
        "                layer_name, layer_type, params = match.groups()\n",
        "                try:\n",
        "                    layer_info = parse_layer(f\"{layer_type}({params})\")\n",
        "                    model_dict[\"layers\"].append({\n",
        "                        \"name\": layer_name,\n",
        "                        \"type\": layer_type,\n",
        "                        \"parameters\": layer_info[\"parameters\"]\n",
        "                    })\n",
        "                except Exception as e:\n",
        "                    print(f\"Error parsing layer {layer_name}: {str(e)}\")\n",
        "\n",
        "    return model_dict\n",
        "\n",
        "\n",
        "# do not change the code in the block below\n",
        "# __________start of block__________\n",
        "assert os.path.exists(\n",
        "    \"hw_fmnist_data_dict.npy\"\n",
        "), \"Please, download `hw_fmnist_data_dict.npy` and place it in the working directory\"\n",
        "\n",
        "loaded_data_dict = np.load(\"hw_fmnist_data_dict.npy\", allow_pickle=True)\n",
        "\n",
        "submission_dict = {\n",
        "    \"train_predictions_task_1\": get_predictions(\n",
        "        model_task_1, torch.FloatTensor(loaded_data_dict.item()[\"train\"])\n",
        "    ),\n",
        "    \"test_predictions_task_1\": get_predictions(\n",
        "        model_task_1, torch.FloatTensor(loaded_data_dict.item()[\"test\"])\n",
        "    ),\n",
        "    \"model_task_1\": parse_pytorch_model(str(model_task_1)),\n",
        "}\n",
        "\n",
        "with open(\"submission_dict_fmnist_task_1.json\", \"w\") as iofile:\n",
        "    json.dump(submission_dict, iofile)\n",
        "print(\"File saved to `submission_dict_fmnist_task_1.json`\")\n",
        "# __________end of block__________"
      ]
    },
    {
      "cell_type": "markdown",
      "metadata": {
        "id": "jDthBDWeH9ah"
      },
      "source": [
        "### Сдача задания\n",
        "Сдайте сгенерированный файл в соответствующую задачу в соревновании, а именно:\n",
        "    \n",
        "* `submission_dict_fmnist_task_1.json` в задачу Separation"
      ]
    },
    {
      "cell_type": "markdown",
      "metadata": {
        "id": "OtWnYAN_gSrA"
      },
      "source": [
        "На этом задание завершено. Поздравляем!"
      ]
    }
  ],
  "metadata": {
    "accelerator": "GPU",
    "colab": {
      "gpuType": "T4",
      "provenance": [],
      "include_colab_link": true
    },
    "kernelspec": {
      "display_name": "facelv_1.13+cu117",
      "language": "python",
      "name": "python3"
    },
    "language_info": {
      "codemirror_mode": {
        "name": "ipython",
        "version": 3
      },
      "file_extension": ".py",
      "mimetype": "text/x-python",
      "name": "python",
      "nbconvert_exporter": "python",
      "pygments_lexer": "ipython3",
      "version": "3.8.18"
    },
    "toc": {
      "base_numbering": 1,
      "nav_menu": {},
      "number_sections": true,
      "sideBar": true,
      "skip_h1_title": false,
      "title_cell": "Table of Contents",
      "title_sidebar": "Contents",
      "toc_cell": false,
      "toc_position": {},
      "toc_section_display": true,
      "toc_window_display": false
    },
    "vscode": {
      "interpreter": {
        "hash": "21499ab2a6726e29f7050b76af0e9680227e613293d630ba279de7ebdfad9cae"
      }
    }
  },
  "nbformat": 4,
  "nbformat_minor": 0
}